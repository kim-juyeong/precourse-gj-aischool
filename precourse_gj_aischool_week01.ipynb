{
  "nbformat": 4,
  "nbformat_minor": 0,
  "metadata": {
    "colab": {
      "name": "precourse-gj-aischool-week01.ipynb",
      "provenance": [],
      "collapsed_sections": [],
      "authorship_tag": "ABX9TyPxpcnyBRxFE+MO8z8P/1Qd",
      "include_colab_link": true
    },
    "kernelspec": {
      "name": "python3",
      "display_name": "Python 3"
    }
  },
  "cells": [
    {
      "cell_type": "markdown",
      "metadata": {
        "id": "view-in-github",
        "colab_type": "text"
      },
      "source": [
        "<a href=\"https://colab.research.google.com/github/kim-juyeong/precourse-gj-aischool/blob/master/precourse_gj_aischool_week01.ipynb\" target=\"_parent\"><img src=\"https://colab.research.google.com/assets/colab-badge.svg\" alt=\"Open In Colab\"/></a>"
      ]
    },
    {
      "cell_type": "markdown",
      "metadata": {
        "id": "egKlFtdHsoez",
        "colab_type": "text"
      },
      "source": [
        "# **광주 인공지능 사관학교 1주차 과제**<br/>\n",
        "인공지능은 현재 많은 제품과 서비스에 적용되어 있습니다. 특히 언어, 음성, 이미지, 자율주행의 분야에서 자주 찾아볼 수 있는데요.\n",
        "시중에 나와있는 다양한 제품들과 서비스 속 적용된 인공지능 기술들에 대해서 분석해 보고 여러분의 흥미를 끄는 기술들은 무엇이 있는지 찾아 보며 여러분 나름의 학습 목표를 세워보시기 바랍니다.\n",
        "\n",
        "앞서 제시해 드린 4가지 분야의 기술을 사용하는 4가지 제품 및 서비스를 찾아 깃헙 마크다운으로 작성하여 url과 여러분의 과제 목차 스크린 캡처를 제출해주세요.  \n",
        "<br/>  \n",
        "\n",
        "---\n",
        "\n",
        "<br/>  \n",
        "<br/>  \n",
        "<br/>  \n",
        "\n",
        "\n",
        ">## **언어 서비스**\n",
        ">![이미지를 찾을 수 없음](https://github.com/kim-juyeong/precourse-gj-aischool/blob/master/resource/papagoLogo_pix.jpg?raw=true \"네이버 파파고\")\n",
        ">>## 네이버 파파고  \n",
        ">>파파고는 네이버가 무료로 제공하는 인공지능 번역 서비스로 '네이버 랩스'가 자체 개발한 인공신경망 번역 기술을 통해 스스로 학습하며 이를 기반으로 한국어, 일본어, 영어, 중국어, 스페인어, 베트남어, 인도네시아어, 프랑스어, 러시아어, 태국어, 독일어, 이탈리아어 등 총 13개 언어의 번역 서비스를 제공하고 있다.\n",
        ">>\n",
        ">>인공신경망이란기계학습과 인지과학에서 생물학적 신경망을 본뜬 통계학적 학습 알고리즘으로, 인간의 뉴런 동작 원리에 기초해 인공적으로 구축한 신경망을 뜻한다.  \n",
        ">><br/>  \n",
        ">>  \n",
        ">>  아래와 같은 다양한 기능도 제공한다.  \n",
        ">><br/>  \n",
        ">>* 이미지 번역\n",
        ">>* WSD 화면\n",
        ">>* 1대 1 대화 번역\n",
        ">>* 글로벌 회화\n",
        "\n",
        "<br/>  \n",
        "\n",
        ">## **음성 서비스**\n",
        ">![이미지를 찾을 수 없음](https://github.com/kim-juyeong/precourse-gj-aischool/blob/master/resource/googleLogo_pix.jpg?raw=true \"구글 어시스턴트\")\n",
        ">>## 구글 어시스턴트\n",
        ">>구글 어시스턴트는 구글이 개발하였고 구글 나우의 정보 분석 기능과 음성인식 기능을 접목한 인공지능 비서 서비스이다.\n",
        ">>\n",
        ">>초반에 인공지능 스피커로 나온 것으로 감안하면 아직 인공지능 스피커 시장에서 큰 점유율을 가지고 있진 않지만, 다른 기기들 간의 호환성과 이식성 그리고 우리가 가지고 있는 안드로이드 스마트폰에도 이미 구글 어시스턴트가 내장되어 있기 때문에 학습에 필요한 충분한 데이터가 확보된다면 시장 점유율을 따내는 것은 머지않은 미래일 것이라 생각된다.\n",
        "\n",
        "<br/>\n",
        "\n",
        ">## **이미지**\n",
        ">![이미지를 찾을 수 없음](https://github.com/kim-juyeong/precourse-gj-aischool/blob/master/resource/facebookLogo_pix.jpg?raw=true \"페이스북\")\n",
        ">>## 페이스북\n",
        ">>페이스북은 마틸 저커버그와 에두아르도 세버린이 창설, 미국 캘리포니아주 멘로 파크에 본사를 둔 소셜 네트워크 서비스로 단순 소셜 서비스의 기능만 가지고 있는 게 아니라 사용자와 사진에 나오는 얼굴을 인식하여 이용자를 구분하고 연결해 주는 딥 페이스 인공지능 프로그램을 개발하였다.\n",
        ">>\n",
        ">>딥 페이스 프로그램의 분석 정확도는 97.25%로 인간과 거의 흡사한 분석능력을 가지고 있다고 하며 정확한 얼굴 분석을 위해 역시 인공신경망 알고리즘을 활용하고 있다.\n",
        "\n",
        "<br/>  \n",
        "\n",
        ">## **자율주행**\n",
        ">![이미지를 찾을 수 없음](https://github.com/kim-juyeong/precourse-gj-aischool/blob/master/resource/teslaLogo_pix2.jpg?raw=true \"테슬라\")\n",
        ">>## 테슬라 오토파일럿\n",
        ">>테슬라에서 개발한 인공지능에 기반한 반자율주행 시스템으로 차선 유지, 차간 거리, 차선 변경, 주차 등의 기능을 가지고 있다.\n",
        ">>\n",
        ">>오토파일럿은 차량에서 발생하는 데이터를 수집하고 분석하는 인공지능 칩셋으로 구현이 되어 약 8만여대에 달하는 자동차의 주행 정보를 모두 수집하여 다양한 환경의 주행 정보를 학습하고 있으며 이렇게 수집된 데이터로 최종적으로 운전자 없이 자율주행이 가능한 시스템을 만드는 것을 목표로 하고있다.\n"
      ]
    }
  ]
}